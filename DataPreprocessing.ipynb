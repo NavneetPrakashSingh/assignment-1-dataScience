{
 "cells": [
  {
   "cell_type": "code",
   "execution_count": 1,
   "metadata": {},
   "outputs": [],
   "source": [
    "import pandas as pd\n",
    "import seaborn as sns\n",
    "import matplotlib.pyplot as plt"
   ]
  },
  {
   "cell_type": "code",
   "execution_count": 2,
   "metadata": {},
   "outputs": [],
   "source": [
    "class DataPreprocessing:\n",
    "    \n",
    "    def loadDataSet(self,path):\n",
    "        print(\"Loading DataSet...\")\n",
    "        dataFrame = pd.read_csv(path)\n",
    "        print(\"DataSet loaded successfully...\")\n",
    "        return dataFrame\n",
    "    \n",
    "    def preprocessingPhase(self,dataSet):\n",
    "        self.plotsToUnderstandData(dataSet)\n",
    "        cleanedDataSet = self.dataCleaningToRemoveDublicateData(dataSet)\n",
    "        return cleanedDataSet\n",
    "    \n",
    "    def plotsToUnderstandData(self,dataSet):\n",
    "        \n",
    "        \n",
    "       \n",
    "        \n",
    "        \n",
    "        \n",
    "        \n",
    "        \n",
    "        print(\"Conclusions drawn from the graph are:\")\n",
    "        print(\"TODO and analyze graphs in more different ways\")\n",
    "        \n",
    "    def dataCleaningToRemoveDublicateData(self, dataSet):\n",
    "        \n",
    "        return cleanedDataSet\n",
    "    \n",
    "    def determineNeighbourWithHighestRating(self, cleanedDataSet):\n",
    " "
   ]
  }
 ],
 "metadata": {
  "kernelspec": {
   "display_name": "Python 3",
   "language": "python",
   "name": "python3"
  },
  "language_info": {
   "codemirror_mode": {
    "name": "ipython",
    "version": 3
   },
   "file_extension": ".py",
   "mimetype": "text/x-python",
   "name": "python",
   "nbconvert_exporter": "python",
   "pygments_lexer": "ipython3",
   "version": "3.7.3"
  }
 },
 "nbformat": 4,
 "nbformat_minor": 2
}
