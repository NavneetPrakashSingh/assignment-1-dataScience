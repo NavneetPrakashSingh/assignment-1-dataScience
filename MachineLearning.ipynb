{
 "cells": [
  {
   "cell_type": "code",
   "execution_count": null,
   "metadata": {},
   "outputs": [],
   "source": [
    "from sklearn import preprocessing\n",
    "from sklearn.model_selection import train_test_split\n",
    "from sklearn.tree import DecisionTreeRegressor\n",
    "import pandas as pd"
   ]
  },
  {
   "cell_type": "code",
   "execution_count": null,
   "metadata": {},
   "outputs": [],
   "source": [
    "class MachineLearning:\n",
    "    \n",
    "    def encodingDataFrame(self, cleanedDataSet):\n",
    "        print(\"Encoding Data Frame\")\n",
    "        inputDataSet = pd.DataFrame()\n",
    "        inputDataSet['location'] = cleanedDataSet['location']\n",
    "        inputDataSet['rate'] = cleanedDataSet['rate']\n",
    "        inputDataSet['rest_type'] = cleanedDataSet['rest_type']\n",
    "        inputDataSet['cuisines'] = cleanedDataSet['cuisines']\n",
    "        \n",
    "        trueValues = pd.DataFrame()\n",
    "        trueValues['cost'] = cleanedDataSet['approx_cost(for two people)']\n",
    "        trueValues.replace(',', '', regex=True,inplace=True)\n",
    "        \n",
    "        le = preprocessing.LabelEncoder()\n",
    "        inputDataSetWithLabelEncoder = inputDataSet.apply(le.fit_transform)\n",
    "        inputDataSetWithLabelEncoder.head()\n",
    "\n",
    "        enc = preprocessing.OneHotEncoder()\n",
    "        enc.fit(inputDataSetWithLabelEncoder)\n",
    "        inputDataSetWithOneHotEncoding = enc.transform(inputDataSetWithLabelEncoder).toarray()\n",
    "        X_train, X_test, y_train, y_test = train_test_split(inputDataSetWithOneHotEncoding, trueValues, test_size = 0.2, random_state = 0)\n",
    "        return [X_train, X_test, y_train, y_test]\n",
    "    \n",
    "    def decisionTreeClassifier(self, X_train, X_test, y_train, y_test):\n",
    "        regressor = DecisionTreeRegressor(random_state = 0)\n",
    "        regressor.fit(X_train, y_train)\n",
    "        y_pred = regressor.predict(X_test)\n",
    "        print(\"Predicted values according to decision tree classifier\")\n",
    "        print(y_pred)        \n",
    "    "
   ]
  }
 ],
 "metadata": {
  "kernelspec": {
   "display_name": "Python 3",
   "language": "python",
   "name": "python3"
  },
  "language_info": {
   "codemirror_mode": {
    "name": "ipython",
    "version": 3
   },
   "file_extension": ".py",
   "mimetype": "text/x-python",
   "name": "python",
   "nbconvert_exporter": "python",
   "pygments_lexer": "ipython3",
   "version": "3.7.3"
  }
 },
 "nbformat": 4,
 "nbformat_minor": 2
}
