{
 "cells": [
  {
   "cell_type": "markdown",
   "metadata": {},
   "source": [
    "# Zomato Data Analysis"
   ]
  },
  {
   "cell_type": "markdown",
   "metadata": {},
   "source": [
    "<h2>Explaing The Data Set</h2>"
   ]
  },
  {
   "cell_type": "markdown",
   "metadata": {},
   "source": [
    "<b>Q1.a)</b>Explain the dataset in your own words. Focus on attribute description <br>\n",
    "<b>Ans: </b> The dataset contains the data related to various restaurants from Zomato.com. It includes various attributes like url, address, name, whether the restaurant is available for online order or not and so on which is explained in detail as follows:\n",
    "<ul>\n",
    "    <li>URL: Contains the link of the url from Zomato.com where details realated to restaurant is displayed</li>\n",
    "    <li>ADDRESS: Shows the address of the restaurant</li>\n",
    "    <li>NAME: Shows the name of the restaurant</li>\n",
    "    <li>ONLINE_ORDER: Shows if the restaurant accepts online order or not. Response are in Yes or No</li>\n",
    "    <li>BOOK_TABLE: Shows if a person has an option to book a table in the respective restaurant or not. Response is usually in the form of Yes or No</li>\n",
    "    <li>RATE: Show the average rating of the restaurant. Usually in the form of int.</li>\n",
    "    <li>VOTES: Shows the number of votes recieved by the restaurant. Usually the values are in the form of int.</li>\n",
    "    <li>PHONE: Show the phone number of the restaurant. Values are in int.</li>\n",
    "    <li>LOCATION: Show the current location of the restaurant. Values are in string.</li>\n",
    "    <li>REST_TYPE: Shows the details related to type of restaurant it is. Whether it is Casual Dining or Cafe,etc. Values are separated by comma and are in the form of string </li>\n",
    "    <li>DISH_LIKED: Shows the type of dishes that a person usually likes in the restaurant. All the dishes are separeted by comma</li>\n",
    "    <li>CUISINES: Shows the various types of cuisines available in that restaurant. All the cuisines are separated by comma</li>\n",
    "    <li>APPROX_COST: Show how much would it cost for 2 people to eat in that restaurnt. Usually in int format</li>\n",
    "    <li>REVIEWS_LIST: Shows the reviews related to the restaurant. Usually in the form of JSON</li>\n",
    "    <li>MENU_ITEM: Shows the menu related to the restaurant. Usually in the form of an array</li>\n",
    "    <li>LISTED_IN(TYPE): Shows the type of meal is listed in. Whether its a buffet ,etc</li>\n",
    "    <li>LISTED_IN(CITY): Shows the current city of the restaurant</li>\n",
    "</ul>"
   ]
  },
  {
   "cell_type": "markdown",
   "metadata": {},
   "source": [
    "<h2>Data Preprocessing And Understanding</h2>"
   ]
  },
  {
   "cell_type": "code",
   "execution_count": 1,
   "metadata": {},
   "outputs": [],
   "source": [
    "from sklearn import preprocessing\n",
    "from sklearn.model_selection import train_test_split\n",
    "from sklearn.tree import DecisionTreeRegressor\n",
    "from sklearn.model_selection import GridSearchCV, cross_val_score\n",
    "from sklearn.linear_model import LinearRegression\n",
    "from sklearn.svm import SVR\n",
    "from sklearn.neural_network import MLPRegressor\n",
    "from sklearn.metrics import mean_squared_error\n",
    "from sklearn import metrics\n",
    "\n",
    "import pandas as pd\n",
    "import seaborn as sns\n",
    "import matplotlib.pyplot as plt\n",
    "import numpy as np"
   ]
  },
  {
   "cell_type": "markdown",
   "metadata": {},
   "source": [
    "## Loading Data\n",
    "\n",
    "<b>Q2 a)</b> Loading csv data into a pandas dataframe."
   ]
  },
  {
   "cell_type": "code",
   "execution_count": 2,
   "metadata": {},
   "outputs": [
    {
     "name": "stdout",
     "output_type": "stream",
     "text": [
      "data shape (51717, 17)\n"
     ]
    },
    {
     "data": {
      "text/html": [
       "<div>\n",
       "<style scoped>\n",
       "    .dataframe tbody tr th:only-of-type {\n",
       "        vertical-align: middle;\n",
       "    }\n",
       "\n",
       "    .dataframe tbody tr th {\n",
       "        vertical-align: top;\n",
       "    }\n",
       "\n",
       "    .dataframe thead th {\n",
       "        text-align: right;\n",
       "    }\n",
       "</style>\n",
       "<table border=\"1\" class=\"dataframe\">\n",
       "  <thead>\n",
       "    <tr style=\"text-align: right;\">\n",
       "      <th></th>\n",
       "      <th>url</th>\n",
       "      <th>address</th>\n",
       "      <th>name</th>\n",
       "      <th>online_order</th>\n",
       "      <th>book_table</th>\n",
       "      <th>rate</th>\n",
       "      <th>votes</th>\n",
       "      <th>phone</th>\n",
       "      <th>location</th>\n",
       "      <th>rest_type</th>\n",
       "      <th>dish_liked</th>\n",
       "      <th>cuisines</th>\n",
       "      <th>approx_cost(for two people)</th>\n",
       "      <th>reviews_list</th>\n",
       "      <th>menu_item</th>\n",
       "      <th>listed_in(type)</th>\n",
       "      <th>listed_in(city)</th>\n",
       "    </tr>\n",
       "  </thead>\n",
       "  <tbody>\n",
       "    <tr>\n",
       "      <th>0</th>\n",
       "      <td>https://www.zomato.com/bangalore/jalsa-banasha...</td>\n",
       "      <td>942, 21st Main Road, 2nd Stage, Banashankari, ...</td>\n",
       "      <td>Jalsa</td>\n",
       "      <td>Yes</td>\n",
       "      <td>Yes</td>\n",
       "      <td>4.1/5</td>\n",
       "      <td>775</td>\n",
       "      <td>080 42297555\\r\\n+91 9743772233</td>\n",
       "      <td>Banashankari</td>\n",
       "      <td>Casual Dining</td>\n",
       "      <td>Pasta, Lunch Buffet, Masala Papad, Paneer Laja...</td>\n",
       "      <td>North Indian, Mughlai, Chinese</td>\n",
       "      <td>800</td>\n",
       "      <td>[('Rated 4.0', 'RATED\\n  A beautiful place to ...</td>\n",
       "      <td>[]</td>\n",
       "      <td>Buffet</td>\n",
       "      <td>Banashankari</td>\n",
       "    </tr>\n",
       "    <tr>\n",
       "      <th>1</th>\n",
       "      <td>https://www.zomato.com/bangalore/spice-elephan...</td>\n",
       "      <td>2nd Floor, 80 Feet Road, Near Big Bazaar, 6th ...</td>\n",
       "      <td>Spice Elephant</td>\n",
       "      <td>Yes</td>\n",
       "      <td>No</td>\n",
       "      <td>4.1/5</td>\n",
       "      <td>787</td>\n",
       "      <td>080 41714161</td>\n",
       "      <td>Banashankari</td>\n",
       "      <td>Casual Dining</td>\n",
       "      <td>Momos, Lunch Buffet, Chocolate Nirvana, Thai G...</td>\n",
       "      <td>Chinese, North Indian, Thai</td>\n",
       "      <td>800</td>\n",
       "      <td>[('Rated 4.0', 'RATED\\n  Had been here for din...</td>\n",
       "      <td>[]</td>\n",
       "      <td>Buffet</td>\n",
       "      <td>Banashankari</td>\n",
       "    </tr>\n",
       "    <tr>\n",
       "      <th>2</th>\n",
       "      <td>https://www.zomato.com/SanchurroBangalore?cont...</td>\n",
       "      <td>1112, Next to KIMS Medical College, 17th Cross...</td>\n",
       "      <td>San Churro Cafe</td>\n",
       "      <td>Yes</td>\n",
       "      <td>No</td>\n",
       "      <td>3.8/5</td>\n",
       "      <td>918</td>\n",
       "      <td>+91 9663487993</td>\n",
       "      <td>Banashankari</td>\n",
       "      <td>Cafe, Casual Dining</td>\n",
       "      <td>Churros, Cannelloni, Minestrone Soup, Hot Choc...</td>\n",
       "      <td>Cafe, Mexican, Italian</td>\n",
       "      <td>800</td>\n",
       "      <td>[('Rated 3.0', \"RATED\\n  Ambience is not that ...</td>\n",
       "      <td>[]</td>\n",
       "      <td>Buffet</td>\n",
       "      <td>Banashankari</td>\n",
       "    </tr>\n",
       "    <tr>\n",
       "      <th>3</th>\n",
       "      <td>https://www.zomato.com/bangalore/addhuri-udupi...</td>\n",
       "      <td>1st Floor, Annakuteera, 3rd Stage, Banashankar...</td>\n",
       "      <td>Addhuri Udupi Bhojana</td>\n",
       "      <td>No</td>\n",
       "      <td>No</td>\n",
       "      <td>3.7/5</td>\n",
       "      <td>88</td>\n",
       "      <td>+91 9620009302</td>\n",
       "      <td>Banashankari</td>\n",
       "      <td>Quick Bites</td>\n",
       "      <td>Masala Dosa</td>\n",
       "      <td>South Indian, North Indian</td>\n",
       "      <td>300</td>\n",
       "      <td>[('Rated 4.0', \"RATED\\n  Great food and proper...</td>\n",
       "      <td>[]</td>\n",
       "      <td>Buffet</td>\n",
       "      <td>Banashankari</td>\n",
       "    </tr>\n",
       "    <tr>\n",
       "      <th>4</th>\n",
       "      <td>https://www.zomato.com/bangalore/grand-village...</td>\n",
       "      <td>10, 3rd Floor, Lakshmi Associates, Gandhi Baza...</td>\n",
       "      <td>Grand Village</td>\n",
       "      <td>No</td>\n",
       "      <td>No</td>\n",
       "      <td>3.8/5</td>\n",
       "      <td>166</td>\n",
       "      <td>+91 8026612447\\r\\n+91 9901210005</td>\n",
       "      <td>Basavanagudi</td>\n",
       "      <td>Casual Dining</td>\n",
       "      <td>Panipuri, Gol Gappe</td>\n",
       "      <td>North Indian, Rajasthani</td>\n",
       "      <td>600</td>\n",
       "      <td>[('Rated 4.0', 'RATED\\n  Very good restaurant ...</td>\n",
       "      <td>[]</td>\n",
       "      <td>Buffet</td>\n",
       "      <td>Banashankari</td>\n",
       "    </tr>\n",
       "  </tbody>\n",
       "</table>\n",
       "</div>"
      ],
      "text/plain": [
       "                                                 url  \\\n",
       "0  https://www.zomato.com/bangalore/jalsa-banasha...   \n",
       "1  https://www.zomato.com/bangalore/spice-elephan...   \n",
       "2  https://www.zomato.com/SanchurroBangalore?cont...   \n",
       "3  https://www.zomato.com/bangalore/addhuri-udupi...   \n",
       "4  https://www.zomato.com/bangalore/grand-village...   \n",
       "\n",
       "                                             address                   name  \\\n",
       "0  942, 21st Main Road, 2nd Stage, Banashankari, ...                  Jalsa   \n",
       "1  2nd Floor, 80 Feet Road, Near Big Bazaar, 6th ...         Spice Elephant   \n",
       "2  1112, Next to KIMS Medical College, 17th Cross...        San Churro Cafe   \n",
       "3  1st Floor, Annakuteera, 3rd Stage, Banashankar...  Addhuri Udupi Bhojana   \n",
       "4  10, 3rd Floor, Lakshmi Associates, Gandhi Baza...          Grand Village   \n",
       "\n",
       "  online_order book_table   rate  votes                             phone  \\\n",
       "0          Yes        Yes  4.1/5    775    080 42297555\\r\\n+91 9743772233   \n",
       "1          Yes         No  4.1/5    787                      080 41714161   \n",
       "2          Yes         No  3.8/5    918                    +91 9663487993   \n",
       "3           No         No  3.7/5     88                    +91 9620009302   \n",
       "4           No         No  3.8/5    166  +91 8026612447\\r\\n+91 9901210005   \n",
       "\n",
       "       location            rest_type  \\\n",
       "0  Banashankari        Casual Dining   \n",
       "1  Banashankari        Casual Dining   \n",
       "2  Banashankari  Cafe, Casual Dining   \n",
       "3  Banashankari          Quick Bites   \n",
       "4  Basavanagudi        Casual Dining   \n",
       "\n",
       "                                          dish_liked  \\\n",
       "0  Pasta, Lunch Buffet, Masala Papad, Paneer Laja...   \n",
       "1  Momos, Lunch Buffet, Chocolate Nirvana, Thai G...   \n",
       "2  Churros, Cannelloni, Minestrone Soup, Hot Choc...   \n",
       "3                                        Masala Dosa   \n",
       "4                                Panipuri, Gol Gappe   \n",
       "\n",
       "                         cuisines approx_cost(for two people)  \\\n",
       "0  North Indian, Mughlai, Chinese                         800   \n",
       "1     Chinese, North Indian, Thai                         800   \n",
       "2          Cafe, Mexican, Italian                         800   \n",
       "3      South Indian, North Indian                         300   \n",
       "4        North Indian, Rajasthani                         600   \n",
       "\n",
       "                                        reviews_list menu_item  \\\n",
       "0  [('Rated 4.0', 'RATED\\n  A beautiful place to ...        []   \n",
       "1  [('Rated 4.0', 'RATED\\n  Had been here for din...        []   \n",
       "2  [('Rated 3.0', \"RATED\\n  Ambience is not that ...        []   \n",
       "3  [('Rated 4.0', \"RATED\\n  Great food and proper...        []   \n",
       "4  [('Rated 4.0', 'RATED\\n  Very good restaurant ...        []   \n",
       "\n",
       "  listed_in(type) listed_in(city)  \n",
       "0          Buffet    Banashankari  \n",
       "1          Buffet    Banashankari  \n",
       "2          Buffet    Banashankari  \n",
       "3          Buffet    Banashankari  \n",
       "4          Buffet    Banashankari  "
      ]
     },
     "execution_count": 2,
     "metadata": {},
     "output_type": "execute_result"
    }
   ],
   "source": [
    "path = \"zomato.csv\"\n",
    "zomato_df = pd.read_csv(path)\n",
    "print('data shape', zomato_df.shape)\n",
    "zomato_df.head()"
   ]
  },
  {
   "cell_type": "markdown",
   "metadata": {},
   "source": [
    "## Data Exploration and Preprocessing\n",
    "\n",
    "\n",
    "### Cleaning blank values\n",
    "\n",
    "<b> Q2 c) </b> Are there restaurant duplicates in the data? Detect and if there is, clean it. <br>\n",
    "<b> Ans </b> Yes there are restaurants with duplicate values. For this purpose we analyzed the data and came up with attributes that are causing the data to be duplicate like address, listed type and listed city. Using these attributes we dropped all the rows those rows that are duplicate using drop_deplicates function of pandas and drop all the null values from the data Set. We see the size of the data set and we find that records have been successfully dropped. The code for the same is shown below: "
   ]
  },
  {
   "cell_type": "code",
   "execution_count": 3,
   "metadata": {},
   "outputs": [
    {
     "name": "stdout",
     "output_type": "stream",
     "text": [
      "Cleaned data shape (21248, 17)\n"
     ]
    },
    {
     "data": {
      "text/html": [
       "<div>\n",
       "<style scoped>\n",
       "    .dataframe tbody tr th:only-of-type {\n",
       "        vertical-align: middle;\n",
       "    }\n",
       "\n",
       "    .dataframe tbody tr th {\n",
       "        vertical-align: top;\n",
       "    }\n",
       "\n",
       "    .dataframe thead th {\n",
       "        text-align: right;\n",
       "    }\n",
       "</style>\n",
       "<table border=\"1\" class=\"dataframe\">\n",
       "  <thead>\n",
       "    <tr style=\"text-align: right;\">\n",
       "      <th></th>\n",
       "      <th>url</th>\n",
       "      <th>address</th>\n",
       "      <th>name</th>\n",
       "      <th>online_order</th>\n",
       "      <th>book_table</th>\n",
       "      <th>rate</th>\n",
       "      <th>votes</th>\n",
       "      <th>phone</th>\n",
       "      <th>location</th>\n",
       "      <th>rest_type</th>\n",
       "      <th>dish_liked</th>\n",
       "      <th>cuisines</th>\n",
       "      <th>approx_cost(for two people)</th>\n",
       "      <th>reviews_list</th>\n",
       "      <th>menu_item</th>\n",
       "      <th>listed_in(type)</th>\n",
       "      <th>listed_in(city)</th>\n",
       "    </tr>\n",
       "  </thead>\n",
       "  <tbody>\n",
       "    <tr>\n",
       "      <th>0</th>\n",
       "      <td>https://www.zomato.com/bangalore/jalsa-banasha...</td>\n",
       "      <td>942, 21st Main Road, 2nd Stage, Banashankari, ...</td>\n",
       "      <td>Jalsa</td>\n",
       "      <td>Yes</td>\n",
       "      <td>Yes</td>\n",
       "      <td>4.1/5</td>\n",
       "      <td>775</td>\n",
       "      <td>080 42297555\\r\\n+91 9743772233</td>\n",
       "      <td>Banashankari</td>\n",
       "      <td>Casual Dining</td>\n",
       "      <td>Pasta, Lunch Buffet, Masala Papad, Paneer Laja...</td>\n",
       "      <td>North Indian, Mughlai, Chinese</td>\n",
       "      <td>800</td>\n",
       "      <td>[('Rated 4.0', 'RATED\\n  A beautiful place to ...</td>\n",
       "      <td>[]</td>\n",
       "      <td>Buffet</td>\n",
       "      <td>Banashankari</td>\n",
       "    </tr>\n",
       "    <tr>\n",
       "      <th>1</th>\n",
       "      <td>https://www.zomato.com/bangalore/spice-elephan...</td>\n",
       "      <td>2nd Floor, 80 Feet Road, Near Big Bazaar, 6th ...</td>\n",
       "      <td>Spice Elephant</td>\n",
       "      <td>Yes</td>\n",
       "      <td>No</td>\n",
       "      <td>4.1/5</td>\n",
       "      <td>787</td>\n",
       "      <td>080 41714161</td>\n",
       "      <td>Banashankari</td>\n",
       "      <td>Casual Dining</td>\n",
       "      <td>Momos, Lunch Buffet, Chocolate Nirvana, Thai G...</td>\n",
       "      <td>Chinese, North Indian, Thai</td>\n",
       "      <td>800</td>\n",
       "      <td>[('Rated 4.0', 'RATED\\n  Had been here for din...</td>\n",
       "      <td>[]</td>\n",
       "      <td>Buffet</td>\n",
       "      <td>Banashankari</td>\n",
       "    </tr>\n",
       "    <tr>\n",
       "      <th>2</th>\n",
       "      <td>https://www.zomato.com/SanchurroBangalore?cont...</td>\n",
       "      <td>1112, Next to KIMS Medical College, 17th Cross...</td>\n",
       "      <td>San Churro Cafe</td>\n",
       "      <td>Yes</td>\n",
       "      <td>No</td>\n",
       "      <td>3.8/5</td>\n",
       "      <td>918</td>\n",
       "      <td>+91 9663487993</td>\n",
       "      <td>Banashankari</td>\n",
       "      <td>Cafe, Casual Dining</td>\n",
       "      <td>Churros, Cannelloni, Minestrone Soup, Hot Choc...</td>\n",
       "      <td>Cafe, Mexican, Italian</td>\n",
       "      <td>800</td>\n",
       "      <td>[('Rated 3.0', \"RATED\\n  Ambience is not that ...</td>\n",
       "      <td>[]</td>\n",
       "      <td>Buffet</td>\n",
       "      <td>Banashankari</td>\n",
       "    </tr>\n",
       "    <tr>\n",
       "      <th>3</th>\n",
       "      <td>https://www.zomato.com/bangalore/addhuri-udupi...</td>\n",
       "      <td>1st Floor, Annakuteera, 3rd Stage, Banashankar...</td>\n",
       "      <td>Addhuri Udupi Bhojana</td>\n",
       "      <td>No</td>\n",
       "      <td>No</td>\n",
       "      <td>3.7/5</td>\n",
       "      <td>88</td>\n",
       "      <td>+91 9620009302</td>\n",
       "      <td>Banashankari</td>\n",
       "      <td>Quick Bites</td>\n",
       "      <td>Masala Dosa</td>\n",
       "      <td>South Indian, North Indian</td>\n",
       "      <td>300</td>\n",
       "      <td>[('Rated 4.0', \"RATED\\n  Great food and proper...</td>\n",
       "      <td>[]</td>\n",
       "      <td>Buffet</td>\n",
       "      <td>Banashankari</td>\n",
       "    </tr>\n",
       "    <tr>\n",
       "      <th>4</th>\n",
       "      <td>https://www.zomato.com/bangalore/grand-village...</td>\n",
       "      <td>10, 3rd Floor, Lakshmi Associates, Gandhi Baza...</td>\n",
       "      <td>Grand Village</td>\n",
       "      <td>No</td>\n",
       "      <td>No</td>\n",
       "      <td>3.8/5</td>\n",
       "      <td>166</td>\n",
       "      <td>+91 8026612447\\r\\n+91 9901210005</td>\n",
       "      <td>Basavanagudi</td>\n",
       "      <td>Casual Dining</td>\n",
       "      <td>Panipuri, Gol Gappe</td>\n",
       "      <td>North Indian, Rajasthani</td>\n",
       "      <td>600</td>\n",
       "      <td>[('Rated 4.0', 'RATED\\n  Very good restaurant ...</td>\n",
       "      <td>[]</td>\n",
       "      <td>Buffet</td>\n",
       "      <td>Banashankari</td>\n",
       "    </tr>\n",
       "  </tbody>\n",
       "</table>\n",
       "</div>"
      ],
      "text/plain": [
       "                                                 url  \\\n",
       "0  https://www.zomato.com/bangalore/jalsa-banasha...   \n",
       "1  https://www.zomato.com/bangalore/spice-elephan...   \n",
       "2  https://www.zomato.com/SanchurroBangalore?cont...   \n",
       "3  https://www.zomato.com/bangalore/addhuri-udupi...   \n",
       "4  https://www.zomato.com/bangalore/grand-village...   \n",
       "\n",
       "                                             address                   name  \\\n",
       "0  942, 21st Main Road, 2nd Stage, Banashankari, ...                  Jalsa   \n",
       "1  2nd Floor, 80 Feet Road, Near Big Bazaar, 6th ...         Spice Elephant   \n",
       "2  1112, Next to KIMS Medical College, 17th Cross...        San Churro Cafe   \n",
       "3  1st Floor, Annakuteera, 3rd Stage, Banashankar...  Addhuri Udupi Bhojana   \n",
       "4  10, 3rd Floor, Lakshmi Associates, Gandhi Baza...          Grand Village   \n",
       "\n",
       "  online_order book_table   rate  votes                             phone  \\\n",
       "0          Yes        Yes  4.1/5    775    080 42297555\\r\\n+91 9743772233   \n",
       "1          Yes         No  4.1/5    787                      080 41714161   \n",
       "2          Yes         No  3.8/5    918                    +91 9663487993   \n",
       "3           No         No  3.7/5     88                    +91 9620009302   \n",
       "4           No         No  3.8/5    166  +91 8026612447\\r\\n+91 9901210005   \n",
       "\n",
       "       location            rest_type  \\\n",
       "0  Banashankari        Casual Dining   \n",
       "1  Banashankari        Casual Dining   \n",
       "2  Banashankari  Cafe, Casual Dining   \n",
       "3  Banashankari          Quick Bites   \n",
       "4  Basavanagudi        Casual Dining   \n",
       "\n",
       "                                          dish_liked  \\\n",
       "0  Pasta, Lunch Buffet, Masala Papad, Paneer Laja...   \n",
       "1  Momos, Lunch Buffet, Chocolate Nirvana, Thai G...   \n",
       "2  Churros, Cannelloni, Minestrone Soup, Hot Choc...   \n",
       "3                                        Masala Dosa   \n",
       "4                                Panipuri, Gol Gappe   \n",
       "\n",
       "                         cuisines approx_cost(for two people)  \\\n",
       "0  North Indian, Mughlai, Chinese                         800   \n",
       "1     Chinese, North Indian, Thai                         800   \n",
       "2          Cafe, Mexican, Italian                         800   \n",
       "3      South Indian, North Indian                         300   \n",
       "4        North Indian, Rajasthani                         600   \n",
       "\n",
       "                                        reviews_list menu_item  \\\n",
       "0  [('Rated 4.0', 'RATED\\n  A beautiful place to ...        []   \n",
       "1  [('Rated 4.0', 'RATED\\n  Had been here for din...        []   \n",
       "2  [('Rated 3.0', \"RATED\\n  Ambience is not that ...        []   \n",
       "3  [('Rated 4.0', \"RATED\\n  Great food and proper...        []   \n",
       "4  [('Rated 4.0', 'RATED\\n  Very good restaurant ...        []   \n",
       "\n",
       "  listed_in(type) listed_in(city)  \n",
       "0          Buffet    Banashankari  \n",
       "1          Buffet    Banashankari  \n",
       "2          Buffet    Banashankari  \n",
       "3          Buffet    Banashankari  \n",
       "4          Buffet    Banashankari  "
      ]
     },
     "execution_count": 3,
     "metadata": {},
     "output_type": "execute_result"
    }
   ],
   "source": [
    "zomato_df = zomato_df.drop_duplicates(subset=['address','listed_in(type)','listed_in(city)'],keep=False);\n",
    "zomato_df = zomato_df.dropna(inplace=False)\n",
    "print('Cleaned data shape', zomato_df.shape)\n",
    "zomato_df.head()"
   ]
  },
  {
   "cell_type": "code",
   "execution_count": 4,
   "metadata": {},
   "outputs": [],
   "source": [
    "# Remove rows with NEW as rating\n",
    "zomato_df = zomato_df[zomato_df['rate'] != 'NEW']\n",
    "\n",
    "#saving rating as a single float value\n",
    "zomato_df['rate'] = zomato_df['rate'].apply(lambda x: float(x.split('/')[0])) "
   ]
  },
  {
   "cell_type": "markdown",
   "metadata": {},
   "source": [
    "<b>Q2 b) </b>Explore the data. Plot the distribution of the attributes (frequency). What trends can you find in your data? Are there attributes that are useless at this point?\n",
    "\n",
    "In this section we have created various graphs and covariance matrices for understanding the data.\n",
    "### Graph of number of people who order online on Zomato"
   ]
  },
  {
   "cell_type": "code",
   "execution_count": 5,
   "metadata": {},
   "outputs": [
    {
     "data": {
      "image/png": "[encoded data removed]",
      "text/plain": [
       "<Figure size 432x432 with 1 Axes>"
      ]
     },
     "metadata": {},
     "output_type": "display_data"
    }
   ],
   "source": [
    "onlineOrderValueCount = zomato_df['online_order'].value_counts()\n",
    "sns.set(rc={'figure.figsize':(6,6)})\n",
    "fig = onlineOrderValueCount.plot(kind='bar')\n",
    "plt.margins(0.02)\n",
    "plt.ylabel('Count')\n",
    "plt.xlabel('Online Order')\n",
    "plt.show()"
   ]
  },
  {
   "cell_type": "markdown",
   "metadata": {},
   "source": [
    "### Graph of customers who likes to do online reservations on Zomato"
   ]
  },
  {
   "cell_type": "code",
   "execution_count": 6,
   "metadata": {},
   "outputs": [
    {
     "data": {
      "image/png": "[encoded data removed]",
      "text/plain": [
       "<Figure size 432x432 with 1 Axes>"
      ]
     },
     "metadata": {},
     "output_type": "display_data"
    }
   ],
   "source": [
    "onlineOrderValueCount = zomato_df['book_table'].value_counts()\n",
    "sns.set(rc={'figure.figsize':(6,6)})\n",
    "fig = onlineOrderValueCount.plot(kind='bar')\n",
    "plt.margins(0.02)\n",
    "plt.ylabel('Book Table on Zomato')\n",
    "plt.xlabel('Count')\n",
    "plt.show()"
   ]
  },
  {
   "cell_type": "markdown",
   "metadata": {},
   "source": [
    "### Graph of ratings of people vs count"
   ]
  },
  {
   "cell_type": "code",
   "execution_count": 7,
   "metadata": {
    "scrolled": true
   },
   "outputs": [
    {
     "data": {
      "image/png": "[encoded data removed]",
      "text/plain": [
       "<Figure size 1440x288 with 1 Axes>"
      ]
     },
     "metadata": {},
     "output_type": "display_data"
    }
   ],
   "source": [
    "onlineOrderValueCount = zomato_df['rate'].value_counts()\n",
    "sns.set(rc={'figure.figsize':(20,4)})\n",
    "fig = onlineOrderValueCount.plot(kind='bar')\n",
    "plt.margins(0.02)\n",
    "plt.ylabel('Your y-label')\n",
    "plt.xlabel('Your x-label')\n",
    "plt.show()"
   ]
  },
  {
   "cell_type": "markdown",
   "metadata": {},
   "source": [
    "### Graph of number of restaurants in a particular location"
   ]
  },
  {
   "cell_type": "code",
   "execution_count": 8,
   "metadata": {
    "scrolled": true
   },
   "outputs": [
    {
     "data": {
      "image/png": "[encoded data removed]",
      "text/plain": [
       "<Figure size 1440x288 with 1 Axes>"
      ]
     },
     "metadata": {},
     "output_type": "display_data"
    }
   ],
   "source": [
    "onlineOrderValueCount = zomato_df['location'].value_counts()\n",
    "sns.set(rc={'figure.figsize':(20,4)})\n",
    "fig = onlineOrderValueCount.plot(kind='bar')\n",
    "plt.margins(0.02)\n",
    "plt.ylabel('Areas')\n",
    "plt.xlabel('Number of restaurants')\n",
    "plt.show()"
   ]
  },
  {
   "cell_type": "markdown",
   "metadata": {},
   "source": [
    "## Neighbourhood with the highest ratings and its characteristics \n",
    "<br> Q2 d) <br/> What is the neighborhood with the highest average rating? What are the majorcharacteristics of this neighborhood (e.g., type of restaurant, type of food they offer, etc)\n",
    "\n",
    "<b> Ans: </b>For this purpose we cleaned the rate column by spliting it from '/' and taking the first part of array to get the actual rating of the restaurant. Then we group by the location and took the average of the rating value and sorted it in ascending order as shown in the code below. Using this we found out that restaurants in the location of \n",
    "Banashankari has the highest average rating and the characteristics of the area are:\n",
    "<br>\n",
    "<b>Cuisines in Banashankari are:</b> Rajasthani, Mughlai, Juices, Steak, Modern Indian, Finger Food, South Indian, Tex-Mex, Mexican, Japanese, North Indian, Italian, Thai, BBQ, Continental, Street Food, French, Spanish, Fast Food, Burger, European, Mediterranean, Beverages, Parsi, Kebab, Mangalorean, Sandwich, Ice Cream, Momos, Indonesian, Healthy Food, North Eastern, Asian, Desserts, Seafood, Chinese, Bakery, Salad, Pizza, Cafe\n",
    "<br>\n",
    "<b>Restaurants in Banashankari are:</b> Bar, Dessert Parlor, Irani Cafee, Pub, Microbrewery, Casual Dining, Quick Bites, Lounge, Kiosk, Bakery, Fine Dining, Beverage Shop, Cafe\n",
    "<br>\n",
    "The conclusions have been drawn using the following code\n"
   ]
  },
  {
   "cell_type": "code",
   "execution_count": 9,
   "metadata": {},
   "outputs": [
    {
     "data": {
      "text/html": [
       "<div>\n",
       "<style scoped>\n",
       "    .dataframe tbody tr th:only-of-type {\n",
       "        vertical-align: middle;\n",
       "    }\n",
       "\n",
       "    .dataframe tbody tr th {\n",
       "        vertical-align: top;\n",
       "    }\n",
       "\n",
       "    .dataframe thead th {\n",
       "        text-align: right;\n",
       "    }\n",
       "</style>\n",
       "<table border=\"1\" class=\"dataframe\">\n",
       "  <thead>\n",
       "    <tr style=\"text-align: right;\">\n",
       "      <th></th>\n",
       "      <th>location</th>\n",
       "      <th>rest_type</th>\n",
       "      <th>rate</th>\n",
       "      <th>cuisines</th>\n",
       "      <th>votes</th>\n",
       "    </tr>\n",
       "  </thead>\n",
       "  <tbody>\n",
       "    <tr>\n",
       "      <th>0</th>\n",
       "      <td>Banashankari</td>\n",
       "      <td>Casual Dining</td>\n",
       "      <td>4.1</td>\n",
       "      <td>North Indian, Mughlai, Chinese</td>\n",
       "      <td>775</td>\n",
       "    </tr>\n",
       "    <tr>\n",
       "      <th>1</th>\n",
       "      <td>Banashankari</td>\n",
       "      <td>Casual Dining</td>\n",
       "      <td>4.1</td>\n",
       "      <td>Chinese, North Indian, Thai</td>\n",
       "      <td>787</td>\n",
       "    </tr>\n",
       "    <tr>\n",
       "      <th>2</th>\n",
       "      <td>Banashankari</td>\n",
       "      <td>Cafe, Casual Dining</td>\n",
       "      <td>3.8</td>\n",
       "      <td>Cafe, Mexican, Italian</td>\n",
       "      <td>918</td>\n",
       "    </tr>\n",
       "    <tr>\n",
       "      <th>3</th>\n",
       "      <td>Banashankari</td>\n",
       "      <td>Quick Bites</td>\n",
       "      <td>3.7</td>\n",
       "      <td>South Indian, North Indian</td>\n",
       "      <td>88</td>\n",
       "    </tr>\n",
       "    <tr>\n",
       "      <th>4</th>\n",
       "      <td>Basavanagudi</td>\n",
       "      <td>Casual Dining</td>\n",
       "      <td>3.8</td>\n",
       "      <td>North Indian, Rajasthani</td>\n",
       "      <td>166</td>\n",
       "    </tr>\n",
       "  </tbody>\n",
       "</table>\n",
       "</div>"
      ],
      "text/plain": [
       "       location            rest_type  rate                        cuisines  \\\n",
       "0  Banashankari        Casual Dining   4.1  North Indian, Mughlai, Chinese   \n",
       "1  Banashankari        Casual Dining   4.1     Chinese, North Indian, Thai   \n",
       "2  Banashankari  Cafe, Casual Dining   3.8          Cafe, Mexican, Italian   \n",
       "3  Banashankari          Quick Bites   3.7      South Indian, North Indian   \n",
       "4  Basavanagudi        Casual Dining   3.8        North Indian, Rajasthani   \n",
       "\n",
       "   votes  \n",
       "0    775  \n",
       "1    787  \n",
       "2    918  \n",
       "3     88  \n",
       "4    166  "
      ]
     },
     "execution_count": 9,
     "metadata": {},
     "output_type": "execute_result"
    }
   ],
   "source": [
    "requiredColumns = ['location', 'rest_type', 'rate', 'cuisines', 'votes']\n",
    "dataSetWithRatingsAndCities = pd.DataFrame(zomato_df[requiredColumns])\n",
    "\n",
    "dataSetWithRatingsAndCities.head()"
   ]
  },
  {
   "cell_type": "markdown",
   "metadata": {},
   "source": [
    "### Calculating best overall rated location"
   ]
  },
  {
   "cell_type": "code",
   "execution_count": 10,
   "metadata": {},
   "outputs": [
    {
     "data": {
      "text/plain": [
       "location\n",
       "Lavelle Road             4.193410\n",
       "Koramangala 5th Block    4.152875\n",
       "St. Marks Road           4.140072\n",
       "Cunningham Road          4.115232\n",
       "Sankey Road              4.100000\n",
       "Name: rate, dtype: float64"
      ]
     },
     "execution_count": 10,
     "metadata": {},
     "output_type": "execute_result"
    }
   ],
   "source": [
    "meanRating = dataSetWithRatingsAndCities.groupby('location')['rate'].mean().sort_values(ascending=False)\n",
    "best_rated_location = meanRating.keys()[0]\n",
    "meanRating.head()"
   ]
  },
  {
   "cell_type": "markdown",
   "metadata": {},
   "source": [
    "### Find all cuisines in best rated location"
   ]
  },
  {
   "cell_type": "code",
   "execution_count": 11,
   "metadata": {},
   "outputs": [
    {
     "name": "stdout",
     "output_type": "stream",
     "text": [
      "All the cuisines served on top rating location are: ['Pizza', 'Chinese', 'Steak', 'Modern Indian', 'European', 'North Indian', 'Juices', 'Desserts', 'Italian', 'Salad', 'Asian', 'Thai', 'Japanese', 'Mexican', 'Momos', 'Continental', 'Healthy Food', 'Parsi', 'Kebab', 'Spanish', 'Burger', 'Mediterranean', 'North Eastern', 'Cafe', 'Ice Cream', 'Bakery', 'Mangalorean', 'Mughlai', 'Fast Food', 'Rajasthani', 'Sandwich', 'South Indian', 'Beverages', 'BBQ', 'Street Food', 'French', 'Tex-Mex', 'Indonesian', 'Seafood', 'Finger Food']\n"
     ]
    }
   ],
   "source": [
    "all_cuisines = []\n",
    "\n",
    "dataSetWithRatingsAndCities[dataSetWithRatingsAndCities['location'] == best_rated_location]['cuisines'].apply(lambda x: all_cuisines.extend(x.split(', ')))\n",
    "all_cuisines = list(set(all_cuisines)) # get unique cuisine values\n",
    "print('All the cuisines served on top rating location are:', all_cuisines)"
   ]
  },
  {
   "cell_type": "markdown",
   "metadata": {},
   "source": [
    "### Find restaurant types in best rated location"
   ]
  },
  {
   "cell_type": "code",
   "execution_count": 12,
   "metadata": {},
   "outputs": [
    {
     "name": "stdout",
     "output_type": "stream",
     "text": [
      "All the restaurant types in top rating location are: ['Bakery', 'Dessert Parlor', 'Fine Dining', 'Pub', 'Microbrewery', 'Casual Dining', 'Quick Bites', 'Lounge', 'Bar', 'Kiosk', 'Irani Cafee', 'Cafe', 'Beverage Shop']\n"
     ]
    }
   ],
   "source": [
    "all_rest_types = []\n",
    "dataSetWithRatingsAndCities[dataSetWithRatingsAndCities['location'] == best_rated_location]['rest_type'].apply(lambda x: all_rest_types.extend(x.split(', ')))\n",
    "all_rest_types = list(set(all_rest_types)) # get unique restaurant types only\n",
    "print('All the restaurant types in top rating location are:', all_rest_types)"
   ]
  },
  {
   "cell_type": "markdown",
   "metadata": {},
   "source": [
    "# Predicting cost of two people in a restaurant"
   ]
  },
  {
   "cell_type": "markdown",
   "metadata": {},
   "source": [
    "<b>Q3 a)</b> Explain what is the task you’re solving (e.g., supervised x unsupervised, classification xregression x clustering or similarity matching x etc) ?<br>\n",
    "<b>A:</b> Since the problem statement involves predicting the price of the 2 people in a particular restaurant, it is a supervised learning where we have a target variable i.e to predict the cost and all other parameters are the input variables. Since its a supervised learning it is a regression problem since we were trying to predict the value of cost. If we were given a value of cost and we had to predict if the predicted cost would be greater or less than any particualar value then it would be a classification problem"
   ]
  },
  {
   "cell_type": "markdown",
   "metadata": {},
   "source": [
    "<b>Q3 b)</b> What models will you choose? Why? <br>\n",
    "<b>A:</b> Since the problem is a regression problem, we decide to use regressor models like tree Tree Regressor, SVM Regressor and Linear Regressor."
   ]
  },
  {
   "cell_type": "markdown",
   "metadata": {},
   "source": [
    "<b>Q3 b)</b> Which metrics will you use to evaluate your model? <br>\n",
    "<b>A:</b> Since it's a regression problem, we would use mean square error method to determine the average error in each model used and using the matrics we find out the model with the least error to be the most efficient and use the prediction from that model as our final result. <br>\n",
    "Since the problem is not a classification problem, we cannot use accuracy, f-measure, precision and recall for this problem statement."
   ]
  },
  {
   "cell_type": "markdown",
   "metadata": {},
   "source": [
    "<b>Q3 d)</b> How do you make sure not to overfit? <br>\n",
    "<b>A:</b> In order to make sure that the data does not overfit on the model the following steps were taken:\n",
    "<br>\n",
    "<ul>\n",
    "    <li><b>Genralizing the data correctly: </b>Certain instances like the cuisines those were separated by comma were removed and new records of the same were created leading to reduced sparcity and high genralization of the data</li>\n",
    "    <li><b>Cross Validation of the data set: </b>Except for training and test data, a certain part of the dataset was taken as validation data and was also tested against to make sure that the data does not overfit.</li>\n",
    "</ul>"
   ]
  },
  {
   "cell_type": "markdown",
   "metadata": {},
   "source": [
    "<b>Q3 e)</b> Build your model and verify how it performs (using the metrics you have chosen inSection 3(c)) in your training data. Justify which evaluation approach you are using?(Out of sample validation or Cross-validation). Use a plot to justify your findings. How good is your model?\n",
    "<br>\n"
   ]
  },
  {
   "cell_type": "markdown",
   "metadata": {},
   "source": [
    "To solve this problem, we have considered 2 machine learning regressor i.e. Decision Tree Regressor and Linear Regressor. We split the data into training and test data set and fit the training data on the respective algorithms. We then predict the values using these model and use mean square error to determine the error in our models. \n",
    "<br>\n",
    "To evaulate the data, we used cross validation for each approach and the implementation for each approach is shown below.\n",
    "<br>\n",
    "By applying these two models on the system, we find that we get a mean square error of 89 using Decision Tree Regressor and we get a mean square error of 480 for linear regressor. Hence we would prefer decision tree regresson algorithm over linear regression since we have a lower error rate for the same.\n",
    "<br>\n",
    "The above conclusion does make sense given the nature of the dataset as we find that multiple columns have multiple data that quickly branches out in leaves( i.e. table have unique records as analyzed in the tables above) and linear regressor woudn't apply on a non linear target column. Therefore, it makes sense to use decision tree regression over linear regresson.\n",
    "<br>\n",
    "The entire results are implemented in the following section"
   ]
  },
  {
   "cell_type": "markdown",
   "metadata": {},
   "source": [
    "<b>Q3 f): </b>Test your model in your testing set and evaluate its performance.\n",
    "<br>\n",
    "<b>A: </b>To solve this problem we used decision tree regressor and linear regressor and got the following conclusion:\n",
    "<ul>\n",
    "    <li><b>Decision Tree Regressor:</b> Mean square error for test data is 86 and training data is 126. Since in decision tree, we are spliting the data into two parts at each node and for test data set we get a lower error rate since the data in the test data is more genralized as compare to training data which give slightly higher mean square error.</li>\n",
    "    <li><b>Linear Regressor:</b> Mean square error for test data is 426 and training data is 426. It comes out to be almost same for both test and training data set because the data set is non-linear i.e some values are hight and some are very low. This trend is in both training and test data. Hence, we say that the linear regressor is not a well suited algorithm for this problem statement.</li>\n",
    "</ul>"
   ]
  },
  {
   "cell_type": "markdown",
   "metadata": {},
   "source": [
    "<b>Q3 f): </b>Can you tune your model to perform better? Explain the technique you’re using and justify why it is improving your results.\n",
    "<br>\n",
    "<b>A:</b> We use grid search to tune the parameter to obtain the better performance. When we apply grid search on the regressor, we obtain the hyperparameters that gives the best results. The entire process is explained in more details below."
   ]
  },
  {
   "cell_type": "markdown",
   "metadata": {},
   "source": [
    "### Using Cuisines Column For Label encoding and One Hot Encoding\n",
    "\n",
    "In order to use the cuisines column effectively we observe that the column is separated by comma. One hot encoding the cuisines column would lead to a lot of redundant rows and would increase the sparsity of the data set. To reduce the sparcity we clean the cuisines column by spliting the comma separated values and creating new records for each and every cuisines. By using the shape method, we observe that number of rows have increased. The same has been implemented in the following code. "
   ]
  },
  {
   "cell_type": "code",
   "execution_count": 13,
   "metadata": {},
   "outputs": [
    {
     "data": {
      "text/html": [
       "<div>\n",
       "<style scoped>\n",
       "    .dataframe tbody tr th:only-of-type {\n",
       "        vertical-align: middle;\n",
       "    }\n",
       "\n",
       "    .dataframe tbody tr th {\n",
       "        vertical-align: top;\n",
       "    }\n",
       "\n",
       "    .dataframe thead th {\n",
       "        text-align: right;\n",
       "    }\n",
       "</style>\n",
       "<table border=\"1\" class=\"dataframe\">\n",
       "  <thead>\n",
       "    <tr style=\"text-align: right;\">\n",
       "      <th></th>\n",
       "      <th>location</th>\n",
       "      <th>rate</th>\n",
       "      <th>rest_type</th>\n",
       "      <th>cuisines</th>\n",
       "      <th>approx_cost(for two people)</th>\n",
       "    </tr>\n",
       "  </thead>\n",
       "  <tbody>\n",
       "    <tr>\n",
       "      <th>0</th>\n",
       "      <td>Banashankari</td>\n",
       "      <td>4.1</td>\n",
       "      <td>Casual Dining</td>\n",
       "      <td>North Indian, Mughlai, Chinese</td>\n",
       "      <td>800</td>\n",
       "    </tr>\n",
       "    <tr>\n",
       "      <th>1</th>\n",
       "      <td>Banashankari</td>\n",
       "      <td>4.1</td>\n",
       "      <td>Casual Dining</td>\n",
       "      <td>Chinese, North Indian, Thai</td>\n",
       "      <td>800</td>\n",
       "    </tr>\n",
       "    <tr>\n",
       "      <th>2</th>\n",
       "      <td>Banashankari</td>\n",
       "      <td>3.8</td>\n",
       "      <td>Cafe, Casual Dining</td>\n",
       "      <td>Cafe, Mexican, Italian</td>\n",
       "      <td>800</td>\n",
       "    </tr>\n",
       "    <tr>\n",
       "      <th>3</th>\n",
       "      <td>Banashankari</td>\n",
       "      <td>3.7</td>\n",
       "      <td>Quick Bites</td>\n",
       "      <td>South Indian, North Indian</td>\n",
       "      <td>300</td>\n",
       "    </tr>\n",
       "    <tr>\n",
       "      <th>4</th>\n",
       "      <td>Basavanagudi</td>\n",
       "      <td>3.8</td>\n",
       "      <td>Casual Dining</td>\n",
       "      <td>North Indian, Rajasthani</td>\n",
       "      <td>600</td>\n",
       "    </tr>\n",
       "    <tr>\n",
       "      <th>5</th>\n",
       "      <td>Basavanagudi</td>\n",
       "      <td>3.8</td>\n",
       "      <td>Casual Dining</td>\n",
       "      <td>North Indian</td>\n",
       "      <td>600</td>\n",
       "    </tr>\n",
       "    <tr>\n",
       "      <th>7</th>\n",
       "      <td>Banashankari</td>\n",
       "      <td>4.6</td>\n",
       "      <td>Casual Dining, Cafe</td>\n",
       "      <td>Pizza, Cafe, Italian</td>\n",
       "      <td>600</td>\n",
       "    </tr>\n",
       "    <tr>\n",
       "      <th>8</th>\n",
       "      <td>Banashankari</td>\n",
       "      <td>4.0</td>\n",
       "      <td>Cafe</td>\n",
       "      <td>Cafe, Italian, Continental</td>\n",
       "      <td>700</td>\n",
       "    </tr>\n",
       "    <tr>\n",
       "      <th>9</th>\n",
       "      <td>Banashankari</td>\n",
       "      <td>4.2</td>\n",
       "      <td>Cafe</td>\n",
       "      <td>Cafe, Mexican, Italian, Momos, Beverages</td>\n",
       "      <td>550</td>\n",
       "    </tr>\n",
       "    <tr>\n",
       "      <th>10</th>\n",
       "      <td>Banashankari</td>\n",
       "      <td>4.1</td>\n",
       "      <td>Cafe</td>\n",
       "      <td>Cafe</td>\n",
       "      <td>500</td>\n",
       "    </tr>\n",
       "    <tr>\n",
       "      <th>11</th>\n",
       "      <td>Banashankari</td>\n",
       "      <td>4.2</td>\n",
       "      <td>Cafe</td>\n",
       "      <td>Cafe, Italian, Continental</td>\n",
       "      <td>600</td>\n",
       "    </tr>\n",
       "    <tr>\n",
       "      <th>12</th>\n",
       "      <td>Banashankari</td>\n",
       "      <td>4.2</td>\n",
       "      <td>Cafe</td>\n",
       "      <td>Cafe, Chinese, Continental, Italian</td>\n",
       "      <td>500</td>\n",
       "    </tr>\n",
       "    <tr>\n",
       "      <th>13</th>\n",
       "      <td>Banashankari</td>\n",
       "      <td>4.0</td>\n",
       "      <td>Cafe</td>\n",
       "      <td>Cafe, Continental</td>\n",
       "      <td>450</td>\n",
       "    </tr>\n",
       "    <tr>\n",
       "      <th>14</th>\n",
       "      <td>Banashankari</td>\n",
       "      <td>3.8</td>\n",
       "      <td>Cafe, Casual Dining</td>\n",
       "      <td>Cafe, Mexican, Italian</td>\n",
       "      <td>800</td>\n",
       "    </tr>\n",
       "    <tr>\n",
       "      <th>15</th>\n",
       "      <td>Banashankari</td>\n",
       "      <td>3.8</td>\n",
       "      <td>Cafe</td>\n",
       "      <td>Cafe</td>\n",
       "      <td>650</td>\n",
       "    </tr>\n",
       "    <tr>\n",
       "      <th>16</th>\n",
       "      <td>Banashankari</td>\n",
       "      <td>3.9</td>\n",
       "      <td>Cafe</td>\n",
       "      <td>Cafe, Fast Food, Continental, Chinese, Momos</td>\n",
       "      <td>800</td>\n",
       "    </tr>\n",
       "    <tr>\n",
       "      <th>17</th>\n",
       "      <td>Banashankari</td>\n",
       "      <td>3.8</td>\n",
       "      <td>Cafe</td>\n",
       "      <td>Chinese, Cafe, Italian</td>\n",
       "      <td>700</td>\n",
       "    </tr>\n",
       "    <tr>\n",
       "      <th>18</th>\n",
       "      <td>Banashankari</td>\n",
       "      <td>3.9</td>\n",
       "      <td>Cafe</td>\n",
       "      <td>Cafe, Italian, American</td>\n",
       "      <td>300</td>\n",
       "    </tr>\n",
       "    <tr>\n",
       "      <th>20</th>\n",
       "      <td>Banashankari</td>\n",
       "      <td>3.0</td>\n",
       "      <td>Cafe</td>\n",
       "      <td>Cafe, French, North Indian</td>\n",
       "      <td>400</td>\n",
       "    </tr>\n",
       "    <tr>\n",
       "      <th>21</th>\n",
       "      <td>Banashankari</td>\n",
       "      <td>3.7</td>\n",
       "      <td>Cafe</td>\n",
       "      <td>Cafe, Pizza, Fast Food, Beverages</td>\n",
       "      <td>500</td>\n",
       "    </tr>\n",
       "  </tbody>\n",
       "</table>\n",
       "</div>"
      ],
      "text/plain": [
       "        location  rate            rest_type  \\\n",
       "0   Banashankari   4.1        Casual Dining   \n",
       "1   Banashankari   4.1        Casual Dining   \n",
       "2   Banashankari   3.8  Cafe, Casual Dining   \n",
       "3   Banashankari   3.7          Quick Bites   \n",
       "4   Basavanagudi   3.8        Casual Dining   \n",
       "5   Basavanagudi   3.8        Casual Dining   \n",
       "7   Banashankari   4.6  Casual Dining, Cafe   \n",
       "8   Banashankari   4.0                 Cafe   \n",
       "9   Banashankari   4.2                 Cafe   \n",
       "10  Banashankari   4.1                 Cafe   \n",
       "11  Banashankari   4.2                 Cafe   \n",
       "12  Banashankari   4.2                 Cafe   \n",
       "13  Banashankari   4.0                 Cafe   \n",
       "14  Banashankari   3.8  Cafe, Casual Dining   \n",
       "15  Banashankari   3.8                 Cafe   \n",
       "16  Banashankari   3.9                 Cafe   \n",
       "17  Banashankari   3.8                 Cafe   \n",
       "18  Banashankari   3.9                 Cafe   \n",
       "20  Banashankari   3.0                 Cafe   \n",
       "21  Banashankari   3.7                 Cafe   \n",
       "\n",
       "                                        cuisines approx_cost(for two people)  \n",
       "0                 North Indian, Mughlai, Chinese                         800  \n",
       "1                    Chinese, North Indian, Thai                         800  \n",
       "2                         Cafe, Mexican, Italian                         800  \n",
       "3                     South Indian, North Indian                         300  \n",
       "4                       North Indian, Rajasthani                         600  \n",
       "5                                   North Indian                         600  \n",
       "7                           Pizza, Cafe, Italian                         600  \n",
       "8                     Cafe, Italian, Continental                         700  \n",
       "9       Cafe, Mexican, Italian, Momos, Beverages                         550  \n",
       "10                                          Cafe                         500  \n",
       "11                    Cafe, Italian, Continental                         600  \n",
       "12           Cafe, Chinese, Continental, Italian                         500  \n",
       "13                             Cafe, Continental                         450  \n",
       "14                        Cafe, Mexican, Italian                         800  \n",
       "15                                          Cafe                         650  \n",
       "16  Cafe, Fast Food, Continental, Chinese, Momos                         800  \n",
       "17                        Chinese, Cafe, Italian                         700  \n",
       "18                       Cafe, Italian, American                         300  \n",
       "20                    Cafe, French, North Indian                         400  \n",
       "21             Cafe, Pizza, Fast Food, Beverages                         500  "
      ]
     },
     "execution_count": 13,
     "metadata": {},
     "output_type": "execute_result"
    }
   ],
   "source": [
    "X = zomato_df[['location', 'rate', 'rest_type', 'cuisines', 'approx_cost(for two people)']]\n",
    "# Y = zomato_df['approx_cost(for two people)'].apply(lambda x: float(x.replace(',','')))\n",
    "X[:20]"
   ]
  },
  {
   "cell_type": "code",
   "execution_count": 14,
   "metadata": {},
   "outputs": [
    {
     "name": "stdout",
     "output_type": "stream",
     "text": [
      "97 21\n"
     ]
    }
   ],
   "source": [
    "all_cuisines = []\n",
    "all_rest_types = []\n",
    "\n",
    "X['cuisines'].apply(lambda x: all_cuisines.extend(x.split(', ')))\n",
    "X['rest_type'].apply(lambda x: all_rest_types.extend(x.split(', ')))\n",
    "\n",
    "all_cuisines = list(set(all_cuisines))\n",
    "all_rest_types = list(set(all_rest_types))\n",
    "print(len(all_cuisines), len(all_rest_types))"
   ]
  },
  {
   "cell_type": "code",
   "execution_count": 15,
   "metadata": {},
   "outputs": [
    {
     "data": {
      "text/plain": [
       "73445"
      ]
     },
     "execution_count": 15,
     "metadata": {},
     "output_type": "execute_result"
    }
   ],
   "source": [
    "list_X = []\n",
    "\n",
    "def strech_data(x):\n",
    "    multiple_cuisines = x['cuisines'].split(', ')\n",
    "    multiple_rest_types = x['rest_type'].split(', ')\n",
    "    for cusine in multiple_cuisines:\n",
    "        for rest_type in multiple_rest_types:\n",
    "            x['cuisines'] = cusine\n",
    "            x['rest_type'] = rest_type\n",
    "            list_X.append(x.tolist())\n",
    "    return None\n",
    "X.apply(lambda x: strech_data(x), axis=1)\n",
    "len(list_X)"
   ]
  },
  {
   "cell_type": "code",
   "execution_count": 16,
   "metadata": {},
   "outputs": [
    {
     "data": {
      "text/plain": [
       "(73445, 4)"
      ]
     },
     "execution_count": 16,
     "metadata": {},
     "output_type": "execute_result"
    }
   ],
   "source": [
    "streched_data = pd.DataFrame.from_records(list_X, columns=X.columns)\n",
    "streched_data.head()\n",
    "le = preprocessing.LabelEncoder()\n",
    "encoded_X = streched_data[['location', 'rest_type', 'cuisines']].apply(le.fit_transform)\n",
    "encoded_X['rate'] = streched_data['rate']\n",
    "Y = streched_data['approx_cost(for two people)'].apply(lambda x: float(x.replace(',','')))\n",
    "encoded_X.shape"
   ]
  },
  {
   "cell_type": "code",
   "execution_count": 17,
   "metadata": {},
   "outputs": [
    {
     "data": {
      "text/plain": [
       "(73445,)"
      ]
     },
     "execution_count": 17,
     "metadata": {},
     "output_type": "execute_result"
    }
   ],
   "source": [
    "Y.shape"
   ]
  },
  {
   "cell_type": "markdown",
   "metadata": {},
   "source": [
    "### Decision Tree Regressor"
   ]
  },
  {
   "cell_type": "markdown",
   "metadata": {},
   "source": [
    "In order to use the Decision Tree Regressor on our dataset, we started by splitting the data into test and training dataset where 20% is reserved for test data set. Then we apply the decision tree regressor and fit the regressor on our dataset as shown below. Then we calculate the mean square error for decision tree using training data and apply the same steps for test data. Since in mean square error, we are trying to estimate the risk i.e average square value of the value that is estimated and present, so we want that our mean square error to be close to zero.\n",
    "<br>\n",
    "Using the mean square error method for test data, we find that we get a value of 89.14 as shown below."
   ]
  },
  {
   "cell_type": "code",
   "execution_count": 18,
   "metadata": {},
   "outputs": [
    {
     "name": "stdout",
     "output_type": "stream",
     "text": [
      "Train Shape: (58756, 4) (58756,)\n",
      "Test Shape: (14689, 4) (14689,)\n",
      "Mean squre error for Decision tree regressor using test data is:  126.66034781053054\n",
      "Mean squre error for Decision tree regressor using train data is:  89.14345058951592\n"
     ]
    }
   ],
   "source": [
    "#spliting the dataset into test and training dataset \n",
    "X_train, X_test, y_train, y_test =  train_test_split(encoded_X, Y, test_size=0.2, random_state=42)\n",
    "print('Train Shape:', X_train.shape, y_train.shape)\n",
    "print('Test Shape:', X_test.shape, y_test.shape)\n",
    "\n",
    "#using decision tree regressor and predicting the values\n",
    "regr = DecisionTreeRegressor(random_state = 0)\n",
    "# regr.fit(encoded_X, Y)\n",
    "regr.fit(X_train,y_train)\n",
    "y_pred = regr.predict(X_test)\n",
    "\n",
    "#using mean square method to determine how effecient the algorithm is\n",
    "print(\"Mean squre error for Decision tree regressor using test data is: \",np.sqrt(mean_squared_error(y_test, y_pred)))\n",
    "\n",
    "#Similarly applying the same for test data set and finding the mean square error\n",
    "regr = DecisionTreeRegressor(random_state = 0)\n",
    "regr.fit(X_test,y_test)\n",
    "y_pred = regr.predict(X_test)\n",
    "print(\"Mean squre error for Decision tree regressor using train data is: \",np.sqrt(mean_squared_error(y_test, y_pred)))\n"
   ]
  },
  {
   "cell_type": "markdown",
   "metadata": {},
   "source": [
    "Now, inorder to make our results better and figure out which parameter would yield a lower mean square error, we need to use grid search for this purpose. Where we specify various conditions and apply grid search and try to fit the grid search on the existing conditions that we specify to get the best hyperparameters."
   ]
  },
  {
   "cell_type": "code",
   "execution_count": 19,
   "metadata": {},
   "outputs": [
    {
     "name": "stdout",
     "output_type": "stream",
     "text": [
      "Best Hyperparameters:\n",
      "{'criterion': 'mse', 'max_depth': 8, 'max_leaf_nodes': 100, 'min_samples_leaf': 20, 'min_samples_split': 10}\n"
     ]
    }
   ],
   "source": [
    "#hypertuning with grid search\n",
    "param_grid = {\"criterion\": [\"mse\"],\n",
    "              \"min_samples_split\": [10, 20, 40],\n",
    "              \"max_depth\": [2, 6, 8],\n",
    "              \"min_samples_leaf\": [20, 40, 100],\n",
    "              \"max_leaf_nodes\": [5, 20, 100],\n",
    "              }\n",
    "\n",
    "\n",
    "decision_tree_grid_search = GridSearchCV(regr, param_grid, cv=5)\n",
    "decision_tree_grid_search.fit(encoded_X[:10000], Y[:10000])\n",
    "print(\"Best Hyperparameters:\\n{}\".format(decision_tree_grid_search.best_params_))"
   ]
  },
  {
   "cell_type": "markdown",
   "metadata": {},
   "source": [
    "Now we have obtained our hyperparameters. First we will print the grid search to understand the time taken to calculate the score and then we will plot the graph to determine the depth and mean test score for the results obtained by decision tree grid search we applied above."
   ]
  },
  {
   "cell_type": "code",
   "execution_count": 20,
   "metadata": {},
   "outputs": [
    {
     "name": "stdout",
     "output_type": "stream",
     "text": [
      "   mean_fit_time  std_fit_time  mean_score_time  std_score_time  \\\n",
      "0       0.006250      0.007654         0.006251        0.007655   \n",
      "1       0.006251      0.007655         0.000000        0.000000   \n",
      "2       0.006258      0.007665         0.000000        0.000000   \n",
      "3       0.000000      0.000000         0.003131        0.006262   \n",
      "4       0.006255      0.007661         0.000000        0.000000   \n",
      "\n",
      "  param_criterion param_max_depth param_max_leaf_nodes param_min_samples_leaf  \\\n",
      "0             mse               2                    5                     20   \n",
      "1             mse               2                    5                     20   \n",
      "2             mse               2                    5                     20   \n",
      "3             mse               2                    5                     40   \n",
      "4             mse               2                    5                     40   \n",
      "\n",
      "  param_min_samples_split                                             params  \\\n",
      "0                      10  {'criterion': 'mse', 'max_depth': 2, 'max_leaf...   \n",
      "1                      20  {'criterion': 'mse', 'max_depth': 2, 'max_leaf...   \n",
      "2                      40  {'criterion': 'mse', 'max_depth': 2, 'max_leaf...   \n",
      "3                      10  {'criterion': 'mse', 'max_depth': 2, 'max_leaf...   \n",
      "4                      20  {'criterion': 'mse', 'max_depth': 2, 'max_leaf...   \n",
      "\n",
      "   ...  mean_test_score  std_test_score  rank_test_score  split0_train_score  \\\n",
      "0  ...         0.214058        0.144945               49            0.360217   \n",
      "1  ...         0.214058        0.144945               49            0.360217   \n",
      "2  ...         0.214058        0.144945               49            0.360217   \n",
      "3  ...         0.214058        0.144945               49            0.360217   \n",
      "4  ...         0.214058        0.144945               49            0.360217   \n",
      "\n",
      "   split1_train_score  split2_train_score  split3_train_score  \\\n",
      "0             0.37082            0.351639            0.397016   \n",
      "1             0.37082            0.351639            0.397016   \n",
      "2             0.37082            0.351639            0.397016   \n",
      "3             0.37082            0.351639            0.397016   \n",
      "4             0.37082            0.351639            0.397016   \n",
      "\n",
      "   split4_train_score  mean_train_score  std_train_score  \n",
      "0            0.374222          0.370783          0.01535  \n",
      "1            0.374222          0.370783          0.01535  \n",
      "2            0.374222          0.370783          0.01535  \n",
      "3            0.374222          0.370783          0.01535  \n",
      "4            0.374222          0.370783          0.01535  \n",
      "\n",
      "[5 rows x 25 columns]\n"
     ]
    },
    {
     "name": "stderr",
     "output_type": "stream",
     "text": [
      "C:\\Users\\navne\\Anaconda3\\lib\\site-packages\\sklearn\\utils\\deprecation.py:125: FutureWarning: You are accessing a training score ('split0_train_score'), which will not be available by default any more in 0.21. If you need training scores, please set return_train_score=True\n",
      "  warnings.warn(*warn_args, **warn_kwargs)\n",
      "C:\\Users\\navne\\Anaconda3\\lib\\site-packages\\sklearn\\utils\\deprecation.py:125: FutureWarning: You are accessing a training score ('split1_train_score'), which will not be available by default any more in 0.21. If you need training scores, please set return_train_score=True\n",
      "  warnings.warn(*warn_args, **warn_kwargs)\n",
      "C:\\Users\\navne\\Anaconda3\\lib\\site-packages\\sklearn\\utils\\deprecation.py:125: FutureWarning: You are accessing a training score ('split2_train_score'), which will not be available by default any more in 0.21. If you need training scores, please set return_train_score=True\n",
      "  warnings.warn(*warn_args, **warn_kwargs)\n",
      "C:\\Users\\navne\\Anaconda3\\lib\\site-packages\\sklearn\\utils\\deprecation.py:125: FutureWarning: You are accessing a training score ('split3_train_score'), which will not be available by default any more in 0.21. If you need training scores, please set return_train_score=True\n",
      "  warnings.warn(*warn_args, **warn_kwargs)\n",
      "C:\\Users\\navne\\Anaconda3\\lib\\site-packages\\sklearn\\utils\\deprecation.py:125: FutureWarning: You are accessing a training score ('split4_train_score'), which will not be available by default any more in 0.21. If you need training scores, please set return_train_score=True\n",
      "  warnings.warn(*warn_args, **warn_kwargs)\n",
      "C:\\Users\\navne\\Anaconda3\\lib\\site-packages\\sklearn\\utils\\deprecation.py:125: FutureWarning: You are accessing a training score ('mean_train_score'), which will not be available by default any more in 0.21. If you need training scores, please set return_train_score=True\n",
      "  warnings.warn(*warn_args, **warn_kwargs)\n",
      "C:\\Users\\navne\\Anaconda3\\lib\\site-packages\\sklearn\\utils\\deprecation.py:125: FutureWarning: You are accessing a training score ('std_train_score'), which will not be available by default any more in 0.21. If you need training scores, please set return_train_score=True\n",
      "  warnings.warn(*warn_args, **warn_kwargs)\n"
     ]
    },
    {
     "data": {
      "text/plain": [
       "[Text(0.5, 1.0, 'Effect of Depth and Leaf Nodes on Model Performance')]"
      ]
     },
     "execution_count": 20,
     "metadata": {},
     "output_type": "execute_result"
    },
    {
     "data": {
      "image/png": "[encoded data removed]",
      "text/plain": [
       "<Figure size 1440x288 with 1 Axes>"
      ]
     },
     "metadata": {},
     "output_type": "display_data"
    }
   ],
   "source": [
    "#printing dataframe with grid search results\n",
    "df = pd.DataFrame(data=decision_tree_grid_search.cv_results_)\n",
    "print(df.head())\n",
    "\n",
    "#plotting graph for each notes to study the behaviour \n",
    "fig,ax = plt.subplots()\n",
    "sns.pointplot(data=df[['mean_test_score',\n",
    "                           'param_max_leaf_nodes',\n",
    "                           'param_max_depth']],\n",
    "             y='mean_test_score',x='param_max_depth',\n",
    "             hue='param_max_leaf_nodes',ax=ax)\n",
    "ax.set(title=\"Effect of Depth and Leaf Nodes on Model Performance\")"
   ]
  },
  {
   "cell_type": "markdown",
   "metadata": {},
   "source": [
    "From the above graph we are able to determine the relatioin between depth of the parameter and mean test scores we obtained. We observe that when leaf nodes are 5, we obtain a mean test score of 0.15 when the depth of the tree is 2. However, if we increase the depth of the tree for the same parameters the mean test score does not improve. However, if we increase the leaf nodes and increase the max depth we see that our mean test score is increased showing that our test score is also increased with an increase in depth and leaf nodes.\n",
    "<br>\n",
    "Next we apply cross validation to make sure that our model is not over fitted as shown below."
   ]
  },
  {
   "cell_type": "code",
   "execution_count": 21,
   "metadata": {},
   "outputs": [
    {
     "name": "stdout",
     "output_type": "stream",
     "text": [
      "Cross validation for training model score is  [ -64534.2874595   -71723.95358448  -94131.22711147  -75215.99044132\n",
      "  -55473.5530589   -52391.0170826   -54626.08502423  -89093.64165413\n",
      "  -95121.54472595 -107587.31973892]\n",
      "Mean Square Error for test data after using the best parameters is : 7946.55\n"
     ]
    }
   ],
   "source": [
    "#cross validation to check the training model score\n",
    "print(\"Cross validation for training model score is \",cross_val_score(decision_tree_grid_search.best_estimator_, encoded_X, Y, cv=10,scoring='neg_mean_squared_error'))\n",
    "\n",
    "#cross validation to check the test model score\n",
    "predicted = decision_tree_grid_search.best_estimator_.predict(X_test)\n",
    "print(\"Mean Square Error for test data after using the best parameters is : %.2f\" % metrics.mean_squared_error(y_test, y_pred))"
   ]
  },
  {
   "cell_type": "markdown",
   "metadata": {},
   "source": [
    "Using the above cross validation scores available for training data, we select the one closest to zero and use that to calculate our mean square error for test data."
   ]
  },
  {
   "cell_type": "markdown",
   "metadata": {},
   "source": [
    "### Linear Regressor"
   ]
  },
  {
   "cell_type": "markdown",
   "metadata": {},
   "source": [
    "In order to use the Linear Regressor on our dataset, we started by splitting the data into test and training dataset where 20% is reserved for test data set. Then we apply the linear regressor and fit the regressor on our dataset as shown below. Then we calculate the mean square error for decision tree using training data and apply the same steps for test data. Since in mean square error, we are trying to estimate the risk i.e average square value of the value that is estimated and present, so we want that our mean square error to be close to zero.\n",
    "Using the mean square error method for test data, we find that we get a value of 426.36 as shown below."
   ]
  },
  {
   "cell_type": "code",
   "execution_count": 22,
   "metadata": {},
   "outputs": [
    {
     "name": "stdout",
     "output_type": "stream",
     "text": [
      "Train Shape: (58756, 4) (58756,)\n",
      "Test Shape: (14689, 4) (14689,)\n",
      "Mean squre error for Linear regressor using test data is:  426.3997167546589\n",
      "Mean squre error for Linear regressor using train data is:  426.36966557763185\n"
     ]
    }
   ],
   "source": [
    "#splitting the dataset into training and test data\n",
    "X_train, X_test, y_train, y_test =  train_test_split(encoded_X, Y, test_size=0.2, random_state=42)\n",
    "print('Train Shape:', X_train.shape, y_train.shape)\n",
    "print('Test Shape:', X_test.shape, y_test.shape)\n",
    "\n",
    "#using linear regressor and predicting the values\n",
    "regr = LinearRegression()\n",
    "regr.fit(X_train, y_train)\n",
    "y_pred = regr.predict(X_test)\n",
    "\n",
    "#using mean square method to determine how effecient the algorithm is\n",
    "print(\"Mean squre error for Linear regressor using test data is: \",np.sqrt(mean_squared_error(y_test, y_pred)))\n",
    "\n",
    "#Similarly applying the same for test data set and finding the mean square error\n",
    "regr = LinearRegression()\n",
    "regr.fit(X_test,y_test)\n",
    "y_pred = regr.predict(X_test)\n",
    "print(\"Mean squre error for Linear regressor using train data is: \",np.sqrt(mean_squared_error(y_test, y_pred)))\n"
   ]
  },
  {
   "cell_type": "markdown",
   "metadata": {},
   "source": [
    "Now, we have the mean square as very high showing that it is not a very effiecient model to use. So, we need to hypertune grid search and find out the best params and best score that can be achieved using those params. \n",
    "<br>\n",
    "The entire process is shown below."
   ]
  },
  {
   "cell_type": "code",
   "execution_count": 33,
   "metadata": {},
   "outputs": [
    {
     "name": "stdout",
     "output_type": "stream",
     "text": [
      "Best Params {'copy_X': True, 'fit_intercept': True, 'normalize': True}\n",
      "Best Score 0.2040305550223681\n"
     ]
    }
   ],
   "source": [
    "#hypertuning with grid search\n",
    "param_grid = {'fit_intercept':[True,False], 'normalize':[True,False], 'copy_X':[True, False]}\n",
    "\n",
    "regr = LinearRegression()\n",
    "regr_gs = GridSearchCV(regr, param_grid, cv=3)\n",
    "regr_gs_fit = regr_gs.fit(X_train, y_train)\n",
    "print(\"Best Params\", regr_gs_fit.best_params_)\n",
    "print(\"Best Score\", regr_gs_fit.best_score_)"
   ]
  },
  {
   "cell_type": "markdown",
   "metadata": {},
   "source": [
    "Now we have the best parameters and score we need to use cross validation to make sure that the model is not overfitted. We cross validate training model and using the best parameters we estimate the mean square error as shown below."
   ]
  },
  {
   "cell_type": "code",
   "execution_count": 36,
   "metadata": {},
   "outputs": [
    {
     "name": "stdout",
     "output_type": "stream",
     "text": [
      "Cross validation for training model score is  [-174936.12091329 -182793.88956431 -177580.4915505  -175230.644533\n",
      " -161699.08578327 -183559.34231286 -183672.13445556 -204046.48347237\n",
      " -181798.63401493 -193888.05100535]\n",
      "Predicted value  [ 93.92589144 479.34858714 519.25110862 ... 921.81319159 964.83769622\n",
      " 896.09282083]\n",
      "Mean Square Error for test data after using the best parameters is : 181816.72\n"
     ]
    }
   ],
   "source": [
    "#cross validation to check the training model score\n",
    "print(\"Cross validation for training model score is \",cross_val_score(regr_gs_fit, X_test, y_test, cv=10,scoring='neg_mean_squared_error'))\n",
    "\n",
    "#cross validation to check the test model score\n",
    "predicted = regr_gs.best_estimator_.predict(X_test)\n",
    "print(\"Predicted value \",predicted)\n",
    "print(\"Mean Square Error for test data after using the best parameters is : %.2f\" % metrics.mean_squared_error(y_test, predicted))"
   ]
  }
 ],
 "metadata": {
  "kernelspec": {
   "display_name": "Python 3",
   "language": "python",
   "name": "python3"
  },
  "language_info": {
   "codemirror_mode": {
    "name": "ipython",
    "version": 3
   },
   "file_extension": ".py",
   "mimetype": "text/x-python",
   "name": "python",
   "nbconvert_exporter": "python",
   "pygments_lexer": "ipython3",
   "version": "3.7.3"
  }
 },
 "nbformat": 4,
 "nbformat_minor": 2
}
